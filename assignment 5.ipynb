{
 "cells": [
  {
   "cell_type": "code",
   "execution_count": 9,
   "id": "cde8a3dd-7df1-4b83-b661-2e6bbb666003",
   "metadata": {},
   "outputs": [
    {
     "data": {
      "text/plain": [
       "'s21'"
      ]
     },
     "execution_count": 9,
     "metadata": {},
     "output_type": "execute_result"
    }
   ],
   "source": [
    "'''1) Class and object are basically two different things, where class is a blueprint or say it as template for creating an object. There can be multiple objects under one class\n",
    "for example-'''\n",
    "class mobile_phones:\n",
    "    def __init__(self,model_name,year,rate):\n",
    "        self.m_name=model_name\n",
    "        self.year=year\n",
    "        self.rate=rate\n",
    "mobile1=mobile_phones('s21',2021,23000)\n",
    "mobile2=mobile_phones('s22',2022,25000)\n",
    "mobile1.m_name\n",
    "#in this example mobile_phones is 'class' which consist of m_name,year and rate where as mobile1 and mobile2 are objects\n",
    "\n",
    "        "
   ]
  },
  {
   "cell_type": "code",
   "execution_count": 10,
   "id": "53eb93cc-bf31-4deb-b8c8-f3bcfc71418b",
   "metadata": {},
   "outputs": [
    {
     "data": {
      "text/plain": [
       "'2) Four main pillars of OOPs are \\n1.Encapsulating-The process of combining data and functions in order to create a class(advantage: Improves security and reduce complexity)\\n2.Abstraction-It helps in simplyifying complex systems and breaking them into smaller ones to reduce complexity and helps in maintanace\\n3.Inheritence-Process of creating new classes from the existing ones\\n4.Polymorphism-Polymorphism is the ability of the object to take on multiple forms\\n'"
      ]
     },
     "execution_count": 10,
     "metadata": {},
     "output_type": "execute_result"
    }
   ],
   "source": [
    "'''2) Four main pillars of OOPs are \n",
    "1.Encapsulating-The process of combining data and functions in order to create a class(advantage: Improves security and reduce complexity)\n",
    "2.Abstraction-It helps in simplyifying complex systems and breaking them into smaller ones to reduce complexity and helps in maintanace\n",
    "3.Inheritence-Process of creating new classes from the existing ones\n",
    "4.Polymorphism-Polymorphism is the ability of the object to take on multiple forms\n",
    "'''"
   ]
  },
  {
   "cell_type": "code",
   "execution_count": 6,
   "id": "2c2dbdec-7727-458c-aff0-7afa266a0632",
   "metadata": {},
   "outputs": [
    {
     "data": {
      "text/plain": [
       "'6gb'"
      ]
     },
     "execution_count": 6,
     "metadata": {},
     "output_type": "execute_result"
    }
   ],
   "source": [
    "#3) '__init__ function is used to initialise the values in class to specify object's arguments\n",
    "class laptops:\n",
    "    def __init__(self,company,price,ram):\n",
    "        self.company=company\n",
    "        self.price=price\n",
    "        self.ram=ram\n",
    "#now the function is created and '__init__' is used to initialise the arguments in the class\n",
    "lap1=laptops('dell',40000,'8gb')\n",
    "lap2=laptops('lenevo',50000,'6gb')\n",
    "#now we need to pass the objects lap1 and lap2  through function\n",
    "lap1.price\n",
    "lap2.ram"
   ]
  },
  {
   "cell_type": "code",
   "execution_count": 8,
   "id": "badbc4f6-18e0-4a2b-a4e7-b07898d05136",
   "metadata": {},
   "outputs": [
    {
     "data": {
      "text/plain": [
       "\"4) In OOPs 'self' is used as the first parameter of instance methods to refer to the object itself, self is an  important parameter as it  defines the behaviour of t\\nhe object and interact with each other\""
      ]
     },
     "execution_count": 8,
     "metadata": {},
     "output_type": "execute_result"
    }
   ],
   "source": [
    "'''4) In OOPs 'self' is used as the first parameter of instance methods to refer to the object itself, self is an  important parameter as it  defines the behaviour of t\n",
    "he object and interact with each other'''"
   ]
  },
  {
   "cell_type": "code",
   "execution_count": 11,
   "id": "3dc96234-1bf1-408b-8463-7b698bb9705b",
   "metadata": {},
   "outputs": [],
   "source": [
    "#5)Inheritance in OOPs where a class(derived or subclass) can inherit properties and behaviour from other class(super_class)\n",
    "#There are four types of classes in OOPs 1.Single inheritance 2.Multilevel inheritance 3.Mulitiple inheritance 4.Heirarchical inheritance\n",
    "#single inheritance, only a single inheritance is done as detail(subclass) from students(superclass)\n",
    "class students:\n",
    "    def __init__(self,age,gender):\n",
    "        self.age=age\n",
    "        self.gender=gender\n",
    "class details(students):\n",
    "    def __init__(self,age,gender,rollno,section):\n",
    "        super().__init__(age,gender)\n",
    "        self.roll=rollno\n",
    "        self.sec=section\n",
    "        \n"
   ]
  },
  {
   "cell_type": "code",
   "execution_count": 28,
   "id": "d6b7240e-b33b-4824-8834-d5df8735eeaa",
   "metadata": {},
   "outputs": [],
   "source": [
    "#multilevel inheritance\n",
    "class cricket:\n",
    "    def __init__(self,bat,keep):\n",
    "        self.batting=bat\n",
    "        self.keep=keep\n",
    "class cric1(cricket):\n",
    "    def __init__(self,bat,keep,bowl):\n",
    "        super().__init__(bat,keep)\n",
    "        self.bowl=bowl\n",
    "class cric2(cric1):\n",
    "    def __init__(self,bat,keep,bowl,field):\n",
    "        super().__init__(bat,keep,bowl)\n",
    "        self.field=field"
   ]
  },
  {
   "cell_type": "code",
   "execution_count": 27,
   "id": "4d236f8e-f767-4fd9-a206-0a4e8b337cfe",
   "metadata": {},
   "outputs": [
    {
     "data": {
      "text/plain": [
       "13"
      ]
     },
     "execution_count": 27,
     "metadata": {},
     "output_type": "execute_result"
    }
   ],
   "source": [
    "csk=cricket('yes','10')\n",
    "srh=cric1(11,12,13)\n",
    "srh.bowl"
   ]
  },
  {
   "cell_type": "code",
   "execution_count": 33,
   "id": "694dbd62-a652-4a32-aaa5-0d7df92b7a61",
   "metadata": {},
   "outputs": [],
   "source": [
    "#Multiple inheritance\n",
    "class mi:\n",
    "    def __init__(self,cups):\n",
    "        self.cups=cups\n",
    "class rcb(mi):\n",
    "    def __init__(self,cups,records):\n",
    "        super().__init__(cups)\n",
    "        self.records=records\n",
    "class ipl:\n",
    "    def __init__(self,year,chairman):\n",
    "        self.year=year\n",
    "        self.chairman=chairman\n",
    "class csk(rcb,mi):\n",
    "    def __init__(self,cups,records,year,chairman):\n",
    "        rcb.__init__(self,cups,records)\n",
    "        ipl.__init__(self,year,chairman)\n",
    "\n",
    "        \n",
    "        "
   ]
  },
  {
   "cell_type": "code",
   "execution_count": 36,
   "id": "2d6bb617-b25d-421c-b04d-2de6de7c5871",
   "metadata": {},
   "outputs": [],
   "source": [
    "dhoni=csk(4,10,15,'s')"
   ]
  },
  {
   "cell_type": "code",
   "execution_count": 37,
   "id": "98a63c47-94c5-4c94-9380-95f76d17ca8c",
   "metadata": {},
   "outputs": [
    {
     "data": {
      "text/plain": [
       "4"
      ]
     },
     "execution_count": 37,
     "metadata": {},
     "output_type": "execute_result"
    }
   ],
   "source": [
    "dhoni.cups"
   ]
  },
  {
   "cell_type": "code",
   "execution_count": 39,
   "id": "9c26b5db-91b1-4d63-9358-668062400be2",
   "metadata": {},
   "outputs": [],
   "source": [
    "#heirarchical inheritance, here one class is taken as base and multiple classes are made\n",
    "class student:\n",
    "    def __init__(self,name):\n",
    "        self.name=name\n",
    "class staff(student):\n",
    "    def __init__(self,name,age):\n",
    "        super().__init__(name)\n",
    "        self.age=age\n",
    "class devotee(student):\n",
    "    def __init__(self,name,gender):\n",
    "        super().__init__(name)\n",
    "        self.gender=gender\n"
   ]
  },
  {
   "cell_type": "code",
   "execution_count": 41,
   "id": "5225bac6-8dc2-4459-b931-c58799709147",
   "metadata": {},
   "outputs": [],
   "source": [
    "cse= student('pranav')"
   ]
  },
  {
   "cell_type": "code",
   "execution_count": 43,
   "id": "c5b51586-2b9d-4d79-bf28-4c0fb26ac63d",
   "metadata": {},
   "outputs": [
    {
     "data": {
      "text/plain": [
       "'pranav'"
      ]
     },
     "execution_count": 43,
     "metadata": {},
     "output_type": "execute_result"
    }
   ],
   "source": [
    "cse.name"
   ]
  },
  {
   "cell_type": "code",
   "execution_count": 44,
   "id": "44968e4c-cb5a-4160-a1b8-74295986ed76",
   "metadata": {},
   "outputs": [],
   "source": [
    "eee=staff('jaya',22)"
   ]
  },
  {
   "cell_type": "code",
   "execution_count": 45,
   "id": "a5e55b02-3d2b-456a-8f90-25ec316f8bce",
   "metadata": {},
   "outputs": [
    {
     "data": {
      "text/plain": [
       "22"
      ]
     },
     "execution_count": 45,
     "metadata": {},
     "output_type": "execute_result"
    }
   ],
   "source": [
    "eee.age"
   ]
  }
 ],
 "metadata": {
  "kernelspec": {
   "display_name": "Python 3 (ipykernel)",
   "language": "python",
   "name": "python3"
  },
  "language_info": {
   "codemirror_mode": {
    "name": "ipython",
    "version": 3
   },
   "file_extension": ".py",
   "mimetype": "text/x-python",
   "name": "python",
   "nbconvert_exporter": "python",
   "pygments_lexer": "ipython3",
   "version": "3.10.8"
  }
 },
 "nbformat": 4,
 "nbformat_minor": 5
}
