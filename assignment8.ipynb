{
 "cells": [
  {
   "cell_type": "code",
   "execution_count": 5,
   "id": "80b366f5-236c-40f1-be65-d278858dc950",
   "metadata": {},
   "outputs": [],
   "source": [
    "\n",
    "#Q1. What is Abstraction in OOps? Explain with an example.\n",
    "#Abstraction allows us to focus on the essential features of an object by hiding all the underlying implementation details\n",
    "#It hides the complex details and shows and abstract view to the user based on a particular object \n",
    "#example\n",
    "class car:\n",
    "    def  __init__(self,model,color):\n",
    "        self.__speed=0\n",
    "        self.model=model\n",
    "        self.color=color\n",
    "    def start(self):\n",
    "        print(f\"{self.model} started\")\n",
    "    def stop(self):\n",
    "        self.__speed=0\n",
    "        print(f\"{self.model} stopped\")\n",
    "        \n",
    "    def accelerate(self,increment):\n",
    "        self.__speed+=increment\n",
    "        print(f\"{self.model} accelerated to {self.__speed}mph\")\n",
    "    \n",
    "                 "
   ]
  },
  {
   "cell_type": "code",
   "execution_count": 7,
   "id": "736bd72a-d9c4-41c3-b115-1117bc704098",
   "metadata": {},
   "outputs": [],
   "source": [
    "my_car=car(\"toyota\",\"orange\")"
   ]
  },
  {
   "cell_type": "code",
   "execution_count": 10,
   "id": "3997f0bb-f4ec-4172-b9eb-3b2c72ba7162",
   "metadata": {},
   "outputs": [
    {
     "name": "stdout",
     "output_type": "stream",
     "text": [
      "toyota started\n"
     ]
    }
   ],
   "source": [
    "my_car.start()"
   ]
  },
  {
   "cell_type": "code",
   "execution_count": 11,
   "id": "9dc14dcb-4781-41f6-8601-cb08eaa48dd8",
   "metadata": {},
   "outputs": [
    {
     "name": "stdout",
     "output_type": "stream",
     "text": [
      "toyota accelerated to 50mph\n"
     ]
    }
   ],
   "source": [
    "my_car.accelerate(50)"
   ]
  },
  {
   "cell_type": "code",
   "execution_count": 12,
   "id": "d33957ea-0bc6-4161-9b20-f5bf84347f12",
   "metadata": {},
   "outputs": [
    {
     "name": "stdout",
     "output_type": "stream",
     "text": [
      "toyota stopped\n"
     ]
    }
   ],
   "source": [
    "my_car.stop()"
   ]
  },
  {
   "cell_type": "code",
   "execution_count": 21,
   "id": "b3d7a0e7-c866-4d2a-983a-a6dd7d557f73",
   "metadata": {},
   "outputs": [],
   "source": [
    "#Differentiate between Abstraction and Encapsulation. Explain with an example.\n",
    "#Abstraction focuses on hiding the complexity by providing a simplified interface.It allows you to foxus on what an object does instead of how it does it.\n",
    "#Encapsulation is about bundling the data and the methods that operate on the data into a single unit(class) and restricting access to certain details and protecting the internal state of an object.\n",
    "#example\n",
    "class vehicle:\n",
    "    def __init__(self,model,color):\n",
    "        self.__engine_on==False #private attribute(encapsulation)\n",
    "        self.model=model #public \n",
    "        self.color=color #public\n",
    "    def start_engine(self):\n",
    "        self.__engine_on = True\n",
    "        print(f\"{self.model}'s engine started\")\n",
    "\n",
    "    def stop_engine(self):\n",
    "        self.__engine_on = False\n",
    "        print(f\"{self.model}'s engine stopped\")\n",
    "\n",
    "    def drive(self):\n",
    "        if self.__engine_on:\n",
    "            print(f\"{self.model} is driving\")\n",
    "        else:\n",
    "            print(f\"{self.model}'s engine is off. Start the engine first.\")\n",
    "    \n",
    "    def get_engine_status(self):\n",
    "        return \"On\" if self.__engine_on else \"Off\"\n",
    "\n",
    "#usage \n",
    "my_car= vehicle(\"tesla\",\"Red\")\n",
    "#Abstraction: Using simple methods to interact with car\n",
    "my_car.start_engine() #user doesn't need to know how the engine starts internally \n",
    "my_car.drive() #user interacts with the car's abstract interface\n",
    "#encapsulation: protecting internal data\n",
    "print(f\"Engine status: {my_car.get_engine_status()}\") #access through method\n",
    "#my_car.__engine= False # This will raise an Attributeerror as it's ptivate\n"
   ]
  },
  {
   "cell_type": "code",
   "execution_count": 23,
   "id": "95754049-58a8-43dc-8bc8-41d792ae3f7b",
   "metadata": {},
   "outputs": [],
   "source": [
    "#Q3. What is abc module in python? Why is it used?\n",
    "#The 'abc' module in python stands for abstract base classes. It is used to define abstract base classes, which are classes that cannot be instantiated directly but serve as blueprints for other classes.\n",
    "#Abstract base classes are particularly useful when you want to enforce certain methods or properties in derived classes.\n",
    "#example\n",
    "import abc\n",
    "#define an abstract base class\n",
    "class detailss:\n",
    "    @abc.abstractmethod\n",
    "    def students_details(self):\n",
    "        pass\n",
    "    @abc.abstractmethod\n",
    "    def student_assignment(self):\n",
    "        pass\n",
    "    @abc.abstractmethod\n",
    "    def student_marks(self):\n",
    "        pass\n"
   ]
  },
  {
   "cell_type": "code",
   "execution_count": 29,
   "id": "9124c8e7-78e3-4616-a16a-09e49c6ebcf5",
   "metadata": {},
   "outputs": [],
   "source": [
    "class cse(detailss):\n",
    "    def students_details(self,name):\n",
    "        self.name=name\n",
    "        print(f\"student studies in cse and  name is {self.name}\")\n",
    "    "
   ]
  },
  {
   "cell_type": "code",
   "execution_count": 26,
   "id": "b1c9a751-9439-459f-8f36-3c636328aa7f",
   "metadata": {},
   "outputs": [],
   "source": [
    "class ece(detailss):\n",
    "    def students_details(self,name):\n",
    "        self.name=name\n",
    "        print(f\"student studies in ece and name is {self.name}\")"
   ]
  },
  {
   "cell_type": "code",
   "execution_count": 30,
   "id": "28ad89f9-1da9-49c6-8812-abc2b1ac62ec",
   "metadata": {},
   "outputs": [
    {
     "name": "stdout",
     "output_type": "stream",
     "text": [
      "student studies in cse and  name is Pranav\n"
     ]
    }
   ],
   "source": [
    "obj=cse()\n",
    "obj.students_details(\"Pranav\")"
   ]
  },
  {
   "cell_type": "code",
   "execution_count": 31,
   "id": "157fe6b5-8b1b-4705-878d-5b7a79a36d3f",
   "metadata": {},
   "outputs": [
    {
     "name": "stdout",
     "output_type": "stream",
     "text": [
      "student studies in ece and name is Manu\n"
     ]
    }
   ],
   "source": [
    "obj1=ece()\n",
    "obj1.students_details(\"Manu\")"
   ]
  },
  {
   "cell_type": "code",
   "execution_count": 32,
   "id": "c1a252dc-5c46-4ac3-bdbf-f495e33e36c0",
   "metadata": {},
   "outputs": [],
   "source": [
    "#Q4. How can we achieve data abstraction?\n",
    "#Data abstraction in Python (and in programming in general) is achieved by providing only the necessary details to the user while hiding the complex implementation details. This is done by exposing a simplified interface to interact with data and functionality while keeping the internal workings hidden."
   ]
  },
  {
   "cell_type": "code",
   "execution_count": 33,
   "id": "5a96d7fc-c0e1-4277-9ddd-22a1242d601c",
   "metadata": {},
   "outputs": [],
   "source": [
    "# Q5 Can we create an instance of an abstract class? Explain your answer.\n",
    "#No we cannot create an instance of an abstract class because we don't define an abstract class istead we just give a structure to it.Only when a non abstract subclass is created then we can create an instance through the non abstract sublass.\n"
   ]
  }
 ],
 "metadata": {
  "kernelspec": {
   "display_name": "Python 3 (ipykernel)",
   "language": "python",
   "name": "python3"
  },
  "language_info": {
   "codemirror_mode": {
    "name": "ipython",
    "version": 3
   },
   "file_extension": ".py",
   "mimetype": "text/x-python",
   "name": "python",
   "nbconvert_exporter": "python",
   "pygments_lexer": "ipython3",
   "version": "3.10.8"
  }
 },
 "nbformat": 4,
 "nbformat_minor": 5
}
