{
 "cells": [
  {
   "cell_type": "code",
   "execution_count": 2,
   "id": "837c6da5-548f-4f1f-ac83-7e5031fd0fae",
   "metadata": {},
   "outputs": [
    {
     "name": "stdout",
     "output_type": "stream",
     "text": [
      "1\n",
      "2\n",
      "3\n",
      "4\n",
      "5\n"
     ]
    }
   ],
   "source": [
    "#'For loop is used when we know the number of iterations\n",
    "#for example\n",
    "#Q1)\n",
    "l=[1,2,3,4,5]\n",
    "for i in l:\n",
    "    print(l[i-1])"
   ]
  },
  {
   "cell_type": "code",
   "execution_count": 3,
   "id": "e4ff75f5-4e36-414c-a68a-30e5accaae28",
   "metadata": {},
   "outputs": [
    {
     "name": "stdout",
     "output_type": "stream",
     "text": [
      "0\n",
      "1\n",
      "2\n",
      "3\n",
      "4\n",
      "5\n",
      "6\n",
      "7\n",
      "8\n",
      "9\n"
     ]
    }
   ],
   "source": [
    "#while loop is used when we don't actually know the number of iterations.\n",
    "#for example\n",
    "#Q1)\n",
    "t=0\n",
    "while t<10:\n",
    "    print(t)\n",
    "    t+=1"
   ]
  },
  {
   "cell_type": "code",
   "execution_count": 7,
   "id": "bca983f0-855b-4a2f-94f8-3eb225356c4b",
   "metadata": {},
   "outputs": [
    {
     "name": "stdout",
     "output_type": "stream",
     "text": [
      "55\n"
     ]
    }
   ],
   "source": [
    "#program to find sum of first 10 natural numbers using for loop and while loop\n",
    "#for loop\n",
    "#Q2)\n",
    "\n",
    "\n",
    "s=0\n",
    "for i in range(1,11):\n",
    "    s=s+i\n",
    "print(s)\n",
    "\n"
   ]
  },
  {
   "cell_type": "code",
   "execution_count": 13,
   "id": "334f06b0-fbdd-46fa-a165-d93b6fce91f0",
   "metadata": {},
   "outputs": [
    {
     "name": "stdout",
     "output_type": "stream",
     "text": [
      "55\n"
     ]
    }
   ],
   "source": [
    "#while loop\n",
    "#Q2)\n",
    "\n",
    "\n",
    "s=0\n",
    "i=0\n",
    "while i<11:\n",
    "    s=s+i\n",
    "    i+=1\n",
    "print(s)"
   ]
  },
  {
   "cell_type": "code",
   "execution_count": 10,
   "id": "61f4e176-9236-4b2c-936e-ad8ed650387b",
   "metadata": {},
   "outputs": [
    {
     "name": "stdout",
     "output_type": "stream",
     "text": [
      "3628800\n"
     ]
    }
   ],
   "source": [
    "#program to find product of first 10 natural numbers using both for and while loops\n",
    "#for loop\n",
    "#Q2)\n",
    "\n",
    "p=1\n",
    "for i in range(1,11):\n",
    "    p=p*i\n",
    "print(p)"
   ]
  },
  {
   "cell_type": "code",
   "execution_count": 14,
   "id": "2f8722a9-27fb-458c-8811-81261c9fe322",
   "metadata": {},
   "outputs": [
    {
     "name": "stdout",
     "output_type": "stream",
     "text": [
      "3628800\n"
     ]
    }
   ],
   "source": [
    "#while loop\n",
    "#Q2)\n",
    "\n",
    "i=1\n",
    "p=1\n",
    "while i<11:\n",
    "    p=p*i\n",
    "    i+=1\n",
    "print(p)\n"
   ]
  },
  {
   "cell_type": "code",
   "execution_count": 16,
   "id": "040a16df-f3b8-4f61-9442-8d84398256fe",
   "metadata": {},
   "outputs": [
    {
     "name": "stdin",
     "output_type": "stream",
     "text": [
      " 310\n"
     ]
    },
    {
     "name": "stdout",
     "output_type": "stream",
     "text": [
      "2250.0\n"
     ]
    }
   ],
   "source": [
    "'''Create a python program to compute the electricity bill for a household.\n",
    "The per-unit charges in rupees are as follows: For the first 100 units, the user will be charged Rs. 4.5 per\n",
    "unit, for the next 100 units, the user will be charged Rs. 6 per unit, and for the next 100 units, the user will\n",
    "be charged Rs. 10 per unit, After 300 units and above the user will be charged Rs. 20 per unit.'''\n",
    "#Q3)\n",
    "l=int(input())\n",
    "s=0\n",
    "if l<100:\n",
    "    s=l*4.5\n",
    "elif 100<l<200:\n",
    "    s=(100*4.5)+((l-100)*6)\n",
    "elif 200<l<300:\n",
    "    s=(100*4.5)+(100*6)+((l-200)*10)\n",
    "else:\n",
    "    s=(100*4.5)+(100*6)+(100*10)+((l-300)*20)\n",
    "print(s)\n",
    "    "
   ]
  },
  {
   "cell_type": "code",
   "execution_count": 19,
   "id": "8c7a2640-86d2-4c5f-a1d7-b9ce54697021",
   "metadata": {},
   "outputs": [
    {
     "name": "stdout",
     "output_type": "stream",
     "text": [
      "[2, 4, 5, 6, 8, 10, 12, 14, 15, 16, 18, 20, 22, 24, 25, 26, 28, 30, 32, 34, 35, 36, 38, 40, 42, 44, 45, 46, 48, 50, 52, 54, 55, 56, 58, 60, 62, 64, 65, 66, 68, 70, 72, 74, 75, 76, 78, 80, 82, 84, 85, 86, 88, 90, 92, 94, 95, 96, 98, 100]\n"
     ]
    }
   ],
   "source": [
    "#Q4)\n",
    "#for loop\n",
    "l=[]\n",
    "g=[]\n",
    "for i in range(1,101):\n",
    "    l.append(i)\n",
    "\n",
    "for i in range(1,101):\n",
    "    if (i**3)%4==0 or (i**3)%5==0:\n",
    "        g.append(i)\n",
    "print(g)\n",
    "\n",
    "#while loop\n",
    "l=[]\n",
    "g=[]\n",
    "t=1\n",
    "for i in range(1,101):\n",
    "    l.append(i)\n",
    "while t<101:\n",
    "    if (t**3)%4==0 or (t**3)%5==0:\n",
    "        g.append(t)\n",
    "    t+=1\n",
    "print(g)\n"
   ]
  },
  {
   "cell_type": "code",
   "execution_count": 6,
   "id": "876d6a31-2f92-4b35-a387-5cb31c5e1127",
   "metadata": {},
   "outputs": [
    {
     "name": "stdout",
     "output_type": "stream",
     "text": [
      "12\n"
     ]
    }
   ],
   "source": [
    "#Q5)\n",
    "v=0\n",
    "s= 'I want to become a data scientist'\n",
    "for i in range(len(s)):\n",
    "    if s[i]=='a' or s[i]=='e' or s[i]=='i' or s[i]=='o' or s[i]=='u' or s[i]=='U'or s[i]=='O'or s[i]=='A'or s[i]=='E'or s[i]=='I':\n",
    "        v+=1\n",
    "print(v)"
   ]
  },
  {
   "cell_type": "code",
   "execution_count": null,
   "id": "13216f03-fc58-4a6d-a591-b36a0dc6f224",
   "metadata": {},
   "outputs": [],
   "source": []
  }
 ],
 "metadata": {
  "kernelspec": {
   "display_name": "Python 3 (ipykernel)",
   "language": "python",
   "name": "python3"
  },
  "language_info": {
   "codemirror_mode": {
    "name": "ipython",
    "version": 3
   },
   "file_extension": ".py",
   "mimetype": "text/x-python",
   "name": "python",
   "nbconvert_exporter": "python",
   "pygments_lexer": "ipython3",
   "version": "3.10.8"
  }
 },
 "nbformat": 4,
 "nbformat_minor": 5
}
