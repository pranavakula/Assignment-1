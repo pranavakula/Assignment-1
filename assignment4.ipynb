{
 "cells": [
  {
   "cell_type": "code",
   "execution_count": 1,
   "id": "b347b0f1-dcfd-4772-ad10-33540882ab5d",
   "metadata": {},
   "outputs": [],
   "source": [
    "#1)sort given list of tuples using a lambda function\n",
    "cric= [('sachin tendulkar',34357),('Jack Allis',25534),('Ricky Pointing',27483),('virat kohli',24936)]\n",
    "sort_cric=sorted(cric, key=lambda x:x[1])\n",
    "\n"
   ]
  },
  {
   "cell_type": "code",
   "execution_count": 2,
   "id": "8ecd388a-7ead-42c3-a0dd-7c60e3561c2b",
   "metadata": {},
   "outputs": [
    {
     "data": {
      "text/plain": [
       "[('virat kohli', 24936),\n",
       " ('Jack Allis', 25534),\n",
       " ('Ricky Pointing', 27483),\n",
       " ('sachin tendulkar', 34357)]"
      ]
     },
     "execution_count": 2,
     "metadata": {},
     "output_type": "execute_result"
    }
   ],
   "source": [
    "sort_cric"
   ]
  },
  {
   "cell_type": "code",
   "execution_count": 19,
   "id": "b91e3b19-2d43-458a-a465-277ca99cfab7",
   "metadata": {},
   "outputs": [],
   "source": [
    "#2)Write a code to find squares  of all numbers in the list using maps and lambda functions\n",
    "k=[1,2,3,4,5,6,7,8,9,20]\n",
    "t=list(map(lambda x:x**2,k))\n"
   ]
  },
  {
   "cell_type": "code",
   "execution_count": 20,
   "id": "2504f543-e534-489d-9910-d78d34701226",
   "metadata": {},
   "outputs": [
    {
     "data": {
      "text/plain": [
       "[1, 4, 9, 16, 25, 36, 49, 64, 81, 400]"
      ]
     },
     "execution_count": 20,
     "metadata": {},
     "output_type": "execute_result"
    }
   ],
   "source": [
    "t"
   ]
  },
  {
   "cell_type": "code",
   "execution_count": 23,
   "id": "7120e5aa-ef0e-4c06-861a-5c10bd5f8f9a",
   "metadata": {},
   "outputs": [],
   "source": [
    "#3)program to convert the given list of numbers into tuple of strings\n",
    "s=[1,2,3,4,5,6,7,8,9,10]\n",
    "j=list(map(lambda x:str(x),s))"
   ]
  },
  {
   "cell_type": "code",
   "execution_count": 24,
   "id": "29e3b8a7-ec48-40cd-a7a8-c5d6ace32f73",
   "metadata": {},
   "outputs": [
    {
     "data": {
      "text/plain": [
       "['1', '2', '3', '4', '5', '6', '7', '8', '9', '10']"
      ]
     },
     "execution_count": 24,
     "metadata": {},
     "output_type": "execute_result"
    }
   ],
   "source": [
    "j"
   ]
  },
  {
   "cell_type": "code",
   "execution_count": 30,
   "id": "131ecf0d-94c4-4cee-a59b-25a17648a40d",
   "metadata": {},
   "outputs": [
    {
     "data": {
      "text/plain": [
       "325"
      ]
     },
     "execution_count": 30,
     "metadata": {},
     "output_type": "execute_result"
    }
   ],
   "source": [
    "#4)compute product of a list containing nummbers from 1 to 25 using reduce\n",
    "l=[]\n",
    "for i in range(1,26):\n",
    "    l.append(i)\n",
    "from functools import reduce\n",
    "reduce(lambda x,y:x+y , l)"
   ]
  },
  {
   "cell_type": "code",
   "execution_count": 37,
   "id": "796190ef-4214-4ba6-930c-1ce1c00ccbb7",
   "metadata": {},
   "outputs": [
    {
     "data": {
      "text/plain": [
       "[6, 60, 90, 120]"
      ]
     },
     "execution_count": 37,
     "metadata": {},
     "output_type": "execute_result"
    }
   ],
   "source": [
    "#5) Using filter, need to find numbers divisible by 2 and 3\n",
    "l=[2,3,6,9,27,60,90,120,55,46]\n",
    "list(filter( lambda x: x%2==x%3==0 ,l))"
   ]
  },
  {
   "cell_type": "code",
   "execution_count": 44,
   "id": "86167626-d70f-4f4a-a47f-cfbf96ed2bb8",
   "metadata": {},
   "outputs": [
    {
     "data": {
      "text/plain": [
       "['php', 'aba', 'radar', 'level']"
      ]
     },
     "execution_count": 44,
     "metadata": {},
     "output_type": "execute_result"
    }
   ],
   "source": [
    "#6)filter words those with palindrome \n",
    "six=['python','php','aba','radar','level']\n",
    "list(filter(lambda x: x[::-1]==x,six))"
   ]
  }
 ],
 "metadata": {
  "kernelspec": {
   "display_name": "Python 3 (ipykernel)",
   "language": "python",
   "name": "python3"
  },
  "language_info": {
   "codemirror_mode": {
    "name": "ipython",
    "version": 3
   },
   "file_extension": ".py",
   "mimetype": "text/x-python",
   "name": "python",
   "nbconvert_exporter": "python",
   "pygments_lexer": "ipython3",
   "version": "3.10.8"
  }
 },
 "nbformat": 4,
 "nbformat_minor": 5
}
