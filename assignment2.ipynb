{
 "cells": [
  {
   "cell_type": "code",
   "execution_count": 1,
   "id": "7acdb427-755d-40c2-b1fa-7e969416f232",
   "metadata": {},
   "outputs": [],
   "source": [
    "#Q1)\n",
    "#'def' keyword is used to create a function\n",
    "#function to return odd numbers between 1 to 25\n",
    "def oddnum():\n",
    "    o=[]\n",
    "    for i in range (1,26):\n",
    "        if i%2!=0:\n",
    "            o.append(i)\n",
    "    return o\n",
    "\n",
    "            "
   ]
  },
  {
   "cell_type": "code",
   "execution_count": 2,
   "id": "c5885559-e4c9-4c17-90d8-ab1bc2983158",
   "metadata": {},
   "outputs": [
    {
     "data": {
      "text/plain": [
       "[1, 3, 5, 7, 9, 11, 13, 15, 17, 19, 21, 23, 25]"
      ]
     },
     "execution_count": 2,
     "metadata": {},
     "output_type": "execute_result"
    }
   ],
   "source": [
    "oddnum()"
   ]
  },
  {
   "cell_type": "code",
   "execution_count": 1,
   "id": "467ed9e7-904a-4bb1-84f9-be764913197e",
   "metadata": {},
   "outputs": [],
   "source": [
    "#2Q\n",
    "# *args and *kargs are used in a function when the number of values passing through the function are unknown or simply to keep it dynamic.\n",
    "def even(*args):\n",
    "    tuple=args\n",
    "    l=[]\n",
    "    for i in tuple:\n",
    "        if len(i)>3:\n",
    "            l.append(i)\n",
    "    return l\n"
   ]
  },
  {
   "cell_type": "code",
   "execution_count": 2,
   "id": "2d9d76e5-53f5-495c-b5be-a3eb54c3a79f",
   "metadata": {},
   "outputs": [
    {
     "data": {
      "text/plain": [
       "['hello']"
      ]
     },
     "execution_count": 2,
     "metadata": {},
     "output_type": "execute_result"
    }
   ],
   "source": [
    "even('hello','hi','mg')"
   ]
  },
  {
   "cell_type": "code",
   "execution_count": 5,
   "id": "db3a2457-560a-4877-a839-a7201dee2d5c",
   "metadata": {},
   "outputs": [
    {
     "data": {
      "text/plain": [
       "{'hello': 4, 'bye': 7, 'namaste': 6}"
      ]
     },
     "execution_count": 5,
     "metadata": {},
     "output_type": "execute_result"
    }
   ],
   "source": [
    "#Kwargs\n",
    "def wordly(**i):\n",
    "    \n",
    "    return i\n",
    "k= wordly(he=2,hello=4,reo=7)\n",
    "wordly(hello=4,bye=7,namaste=6)"
   ]
  },
  {
   "cell_type": "code",
   "execution_count": 8,
   "id": "9eca32b0-5d68-4ede-accd-b0d211073f3c",
   "metadata": {},
   "outputs": [
    {
     "name": "stdout",
     "output_type": "stream",
     "text": [
      "2\n",
      "4\n",
      "6\n",
      "8\n",
      "10\n"
     ]
    }
   ],
   "source": [
    "#3)An iterator in python is an object having countable number of values.\n",
    "#Technically, in Python, an iterator is an object which implements the iterator protocol, which consist of the methods __iter__() and __next__() .\n",
    "#1)the iter() method is called initializing of an iterator. This returns an iterator object\n",
    "#2)the next() method returns the next values for the iterable\n",
    "l=[2,4,6,8,10,12,14,16,18,20]\n",
    "f=iter(l)\n",
    "for i in range(5):\n",
    "    print(next(f))\n",
    "    \n",
    "\n"
   ]
  },
  {
   "cell_type": "code",
   "execution_count": 1,
   "id": "10bb073c-04a4-424f-b910-a198c8fad027",
   "metadata": {},
   "outputs": [
    {
     "name": "stdout",
     "output_type": "stream",
     "text": [
      "0\n",
      "1\n",
      "2\n",
      "3\n",
      "4\n",
      "5\n",
      "6\n",
      "7\n",
      "8\n",
      "9\n"
     ]
    }
   ],
   "source": [
    "#4\n",
    "#generator function in python yields multiple values instead of a single value by iteration.\n",
    "#yield key word is used to store and return multiple values.\n",
    "def num():\n",
    "   for i in range (10):\n",
    "        yield i\n",
    "for i in num():\n",
    "    print(i)"
   ]
  },
  {
   "cell_type": "code",
   "execution_count": null,
   "id": "a3a3c59b-b635-4138-935d-8ba0ba808079",
   "metadata": {},
   "outputs": [],
   "source": [
    "#5\n",
    "#program to get all prime numbers less than 1000 through generator function\n",
    "def prime():\n",
    "    for i in range (1,1000):\n",
    "        k=1\n",
    "        for j in range(1,i):\n",
    "            \n",
    "            if (i%j)==0:\n",
    "                k+=1\n",
    "        if k==2:\n",
    "            yield i\n",
    "            \n",
    "                \n",
    "for i in prime():\n",
    "    print(i)"
   ]
  },
  {
   "cell_type": "code",
   "execution_count": 9,
   "id": "80521890-2f0d-4d92-810c-2c751ed4f994",
   "metadata": {},
   "outputs": [
    {
     "name": "stdin",
     "output_type": "stream",
     "text": [
      " 10\n"
     ]
    },
    {
     "name": "stdout",
     "output_type": "stream",
     "text": [
      "0\n",
      "1\n",
      "1\n",
      "2\n",
      "3\n",
      "5\n",
      "8\n",
      "13\n",
      "21\n",
      "34\n",
      "55\n"
     ]
    }
   ],
   "source": [
    "#6\n",
    "#fibonacci\n",
    "#0,1,1,2,3,5,8,13,21,34,55\n",
    "#using while loop\n",
    "\n",
    "def fib(i):\n",
    "    if i==0:\n",
    "        return 0\n",
    "    if i==1:\n",
    "        return 1\n",
    "    else:\n",
    "        return fib(i-1)+fib(i-2)\n",
    "i=int(input())\n",
    "j=0\n",
    "while j<=10:\n",
    "    print(fib(j))\n",
    "    j+=1"
   ]
  },
  {
   "cell_type": "code",
   "execution_count": 11,
   "id": "17c4ddce-8d94-4fc8-a41e-0458813be9d8",
   "metadata": {},
   "outputs": [
    {
     "data": {
      "text/plain": [
       "['p', 'w', 's', 'k', 'i', 'l', 'l', 's']"
      ]
     },
     "execution_count": 11,
     "metadata": {},
     "output_type": "execute_result"
    }
   ],
   "source": [
    "#7)list comprehension\n",
    "l='pwskills'\n",
    "k= list((i for i in l))\n",
    "k"
   ]
  },
  {
   "cell_type": "code",
   "execution_count": 3,
   "id": "10645b73-5da5-4ed9-978e-caafff9fe39a",
   "metadata": {},
   "outputs": [
    {
     "name": "stdin",
     "output_type": "stream",
     "text": [
      " 1514\n"
     ]
    },
    {
     "name": "stdout",
     "output_type": "stream",
     "text": [
      "no\n"
     ]
    }
   ],
   "source": [
    "#8)\n",
    "n=int(input())\n",
    "t= str(n)\n",
    "if t[::-1]==t:\n",
    "    print('yes it is palindrome')\n",
    "else:\n",
    "    print('no')"
   ]
  },
  {
   "cell_type": "code",
   "execution_count": 4,
   "id": "321ab107-bbb0-4c85-ab36-b287f9df88e9",
   "metadata": {},
   "outputs": [],
   "source": [
    "#9\n",
    "t= list(i for i in range(1,101))"
   ]
  },
  {
   "cell_type": "code",
   "execution_count": 5,
   "id": "860198e2-be45-41c4-8cb3-f03c02d9e5f5",
   "metadata": {},
   "outputs": [
    {
     "data": {
      "text/plain": [
       "[1,\n",
       " 2,\n",
       " 3,\n",
       " 4,\n",
       " 5,\n",
       " 6,\n",
       " 7,\n",
       " 8,\n",
       " 9,\n",
       " 10,\n",
       " 11,\n",
       " 12,\n",
       " 13,\n",
       " 14,\n",
       " 15,\n",
       " 16,\n",
       " 17,\n",
       " 18,\n",
       " 19,\n",
       " 20,\n",
       " 21,\n",
       " 22,\n",
       " 23,\n",
       " 24,\n",
       " 25,\n",
       " 26,\n",
       " 27,\n",
       " 28,\n",
       " 29,\n",
       " 30,\n",
       " 31,\n",
       " 32,\n",
       " 33,\n",
       " 34,\n",
       " 35,\n",
       " 36,\n",
       " 37,\n",
       " 38,\n",
       " 39,\n",
       " 40,\n",
       " 41,\n",
       " 42,\n",
       " 43,\n",
       " 44,\n",
       " 45,\n",
       " 46,\n",
       " 47,\n",
       " 48,\n",
       " 49,\n",
       " 50,\n",
       " 51,\n",
       " 52,\n",
       " 53,\n",
       " 54,\n",
       " 55,\n",
       " 56,\n",
       " 57,\n",
       " 58,\n",
       " 59,\n",
       " 60,\n",
       " 61,\n",
       " 62,\n",
       " 63,\n",
       " 64,\n",
       " 65,\n",
       " 66,\n",
       " 67,\n",
       " 68,\n",
       " 69,\n",
       " 70,\n",
       " 71,\n",
       " 72,\n",
       " 73,\n",
       " 74,\n",
       " 75,\n",
       " 76,\n",
       " 77,\n",
       " 78,\n",
       " 79,\n",
       " 80,\n",
       " 81,\n",
       " 82,\n",
       " 83,\n",
       " 84,\n",
       " 85,\n",
       " 86,\n",
       " 87,\n",
       " 88,\n",
       " 89,\n",
       " 90,\n",
       " 91,\n",
       " 92,\n",
       " 93,\n",
       " 94,\n",
       " 95,\n",
       " 96,\n",
       " 97,\n",
       " 98,\n",
       " 99,\n",
       " 100]"
      ]
     },
     "execution_count": 5,
     "metadata": {},
     "output_type": "execute_result"
    }
   ],
   "source": [
    "t"
   ]
  },
  {
   "cell_type": "code",
   "execution_count": 6,
   "id": "443074a8-e1b4-4657-8f76-be20d45cf333",
   "metadata": {},
   "outputs": [],
   "source": [
    "k=list(i for i in t if i%2!=0)"
   ]
  },
  {
   "cell_type": "code",
   "execution_count": 7,
   "id": "8936b4c4-e068-4ead-aea4-23fd8593a4c8",
   "metadata": {},
   "outputs": [
    {
     "data": {
      "text/plain": [
       "[1,\n",
       " 3,\n",
       " 5,\n",
       " 7,\n",
       " 9,\n",
       " 11,\n",
       " 13,\n",
       " 15,\n",
       " 17,\n",
       " 19,\n",
       " 21,\n",
       " 23,\n",
       " 25,\n",
       " 27,\n",
       " 29,\n",
       " 31,\n",
       " 33,\n",
       " 35,\n",
       " 37,\n",
       " 39,\n",
       " 41,\n",
       " 43,\n",
       " 45,\n",
       " 47,\n",
       " 49,\n",
       " 51,\n",
       " 53,\n",
       " 55,\n",
       " 57,\n",
       " 59,\n",
       " 61,\n",
       " 63,\n",
       " 65,\n",
       " 67,\n",
       " 69,\n",
       " 71,\n",
       " 73,\n",
       " 75,\n",
       " 77,\n",
       " 79,\n",
       " 81,\n",
       " 83,\n",
       " 85,\n",
       " 87,\n",
       " 89,\n",
       " 91,\n",
       " 93,\n",
       " 95,\n",
       " 97,\n",
       " 99]"
      ]
     },
     "execution_count": 7,
     "metadata": {},
     "output_type": "execute_result"
    }
   ],
   "source": [
    "k"
   ]
  }
 ],
 "metadata": {
  "kernelspec": {
   "display_name": "Python 3 (ipykernel)",
   "language": "python",
   "name": "python3"
  },
  "language_info": {
   "codemirror_mode": {
    "name": "ipython",
    "version": 3
   },
   "file_extension": ".py",
   "mimetype": "text/x-python",
   "name": "python",
   "nbconvert_exporter": "python",
   "pygments_lexer": "ipython3",
   "version": "3.10.8"
  }
 },
 "nbformat": 4,
 "nbformat_minor": 5
}
